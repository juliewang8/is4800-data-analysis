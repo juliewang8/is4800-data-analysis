{
 "cells": [
  {
   "cell_type": "code",
   "execution_count": 1,
   "id": "0caedd41",
   "metadata": {},
   "outputs": [],
   "source": [
    "import numpy as np\n",
    "import matplotlib.pyplot as plt\n",
    "import pandas as pd\n",
    "import pingouin as pg\n",
    "import seaborn as sns\n",
    "import altair as alt"
   ]
  },
  {
   "cell_type": "code",
   "execution_count": 2,
   "metadata": {},
   "outputs": [],
   "source": [
    "short_term = pd.read_csv(\"./data/short_term.csv\")"
   ]
  },
  {
   "cell_type": "code",
   "execution_count": 3,
   "id": "0c3745f1",
   "metadata": {},
   "outputs": [
    {
     "name": "stdout",
     "output_type": "stream",
     "text": [
      "Short-term mean (1.0x speed): 9.181818181818182\n",
      "Short-term mean (1.5x speed): 6.636363636363637\n",
      "Short-term mean (2.0x speed): 7.454545454545454\n",
      "Standard deviation (1.0x speed): 3.2807981290588977\n",
      "Standard deviation (1.5x speed): 2.73030134866931\n",
      "Standard deviation (2.0x speed): 2.5045413298101655\n"
     ]
    },
    {
     "data": {
      "text/html": [
       "\n",
       "<div id=\"altair-viz-3e21d33a54c54d8592fd73165d81b4af\"></div>\n",
       "<script type=\"text/javascript\">\n",
       "  var VEGA_DEBUG = (typeof VEGA_DEBUG == \"undefined\") ? {} : VEGA_DEBUG;\n",
       "  (function(spec, embedOpt){\n",
       "    let outputDiv = document.currentScript.previousElementSibling;\n",
       "    if (outputDiv.id !== \"altair-viz-3e21d33a54c54d8592fd73165d81b4af\") {\n",
       "      outputDiv = document.getElementById(\"altair-viz-3e21d33a54c54d8592fd73165d81b4af\");\n",
       "    }\n",
       "    const paths = {\n",
       "      \"vega\": \"https://cdn.jsdelivr.net/npm//vega@5?noext\",\n",
       "      \"vega-lib\": \"https://cdn.jsdelivr.net/npm//vega-lib?noext\",\n",
       "      \"vega-lite\": \"https://cdn.jsdelivr.net/npm//vega-lite@4.17.0?noext\",\n",
       "      \"vega-embed\": \"https://cdn.jsdelivr.net/npm//vega-embed@6?noext\",\n",
       "    };\n",
       "\n",
       "    function maybeLoadScript(lib, version) {\n",
       "      var key = `${lib.replace(\"-\", \"\")}_version`;\n",
       "      return (VEGA_DEBUG[key] == version) ?\n",
       "        Promise.resolve(paths[lib]) :\n",
       "        new Promise(function(resolve, reject) {\n",
       "          var s = document.createElement('script');\n",
       "          document.getElementsByTagName(\"head\")[0].appendChild(s);\n",
       "          s.async = true;\n",
       "          s.onload = () => {\n",
       "            VEGA_DEBUG[key] = version;\n",
       "            return resolve(paths[lib]);\n",
       "          };\n",
       "          s.onerror = () => reject(`Error loading script: ${paths[lib]}`);\n",
       "          s.src = paths[lib];\n",
       "        });\n",
       "    }\n",
       "\n",
       "    function showError(err) {\n",
       "      outputDiv.innerHTML = `<div class=\"error\" style=\"color:red;\">${err}</div>`;\n",
       "      throw err;\n",
       "    }\n",
       "\n",
       "    function displayChart(vegaEmbed) {\n",
       "      vegaEmbed(outputDiv, spec, embedOpt)\n",
       "        .catch(err => showError(`Javascript Error: ${err.message}<br>This usually means there's a typo in your chart specification. See the javascript console for the full traceback.`));\n",
       "    }\n",
       "\n",
       "    if(typeof define === \"function\" && define.amd) {\n",
       "      requirejs.config({paths});\n",
       "      require([\"vega-embed\"], displayChart, err => showError(`Error loading script: ${err.message}`));\n",
       "    } else {\n",
       "      maybeLoadScript(\"vega\", \"5\")\n",
       "        .then(() => maybeLoadScript(\"vega-lite\", \"4.17.0\"))\n",
       "        .then(() => maybeLoadScript(\"vega-embed\", \"6\"))\n",
       "        .catch(showError)\n",
       "        .then(() => displayChart(vegaEmbed));\n",
       "    }\n",
       "  })({\"config\": {\"view\": {\"continuousWidth\": 400, \"continuousHeight\": 300}}, \"layer\": [{\"mark\": \"bar\", \"encoding\": {\"x\": {\"field\": \"Speed\", \"type\": \"nominal\"}, \"y\": {\"aggregate\": \"mean\", \"field\": \"SC0\", \"type\": \"quantitative\"}}}, {\"mark\": \"errorbar\", \"encoding\": {\"x\": {\"field\": \"Speed\", \"type\": \"nominal\"}, \"y\": {\"aggregate\": \"mean\", \"field\": \"SC0\", \"type\": \"quantitative\"}}}], \"data\": {\"name\": \"data-34a50a9710cdb4966a75c6c44b649206\"}, \"$schema\": \"https://vega.github.io/schema/vega-lite/v4.17.0.json\", \"datasets\": {\"data-34a50a9710cdb4966a75c6c44b649206\": [{\"Duration (in seconds)\": 764, \"Experimenter\": \"Team\", \"ResponseId\": \"R_28SNzCo0RORADv2\", \"Intro + Consent\": \"I consent, begin the study\", \"Q64\": null, \"Q1\": \"Left atrium\", \"Q2\": \"It squeezes their legs together, which increases the systemic resistance of all the arteries in their body\", \"Q3\": \"I do not know\", \"Q4\": \"I do not know\", \"Q5\": \"Cyanotic, because there is a lack of blue blood\", \"Q6\": \"Because of pulmonary stenosis\", \"Q7\": \"The name of the physician who named the disease\", \"Q8\": \"Stenosis restricts blood flow to the pulmonary and blood follows the easiest path\", \"Q9\": \"How hard is it to pump blood\", \"Q10\": \"The narrowing of the pulmonary valve\", \"Q11\": \"4\", \"Q12\": \"lack of oxygen\", \"Q13\": \"squat\", \"Q14\": \"boot\", \"Post Q1_1\": \"No knowledge at all\", \"Post Q1_2\": \"No knowledge at all\", \"Speed\": \"2.0x speed\", \"Post Q2\": \"Khoury\", \"SC0\": 9}, {\"Duration (in seconds)\": 638, \"Experimenter\": \"Team\", \"ResponseId\": \"R_3VJYsP2SQaYGBrP\", \"Intro + Consent\": \"I consent, begin the study\", \"Q64\": null, \"Q1\": \"Right ventricle\", \"Q2\": \"It squeezes their legs together, which increases the systemic resistance of all the arteries in their body\", \"Q3\": \"Muscles in the heart stop getting used and deteriorate over time\", \"Q4\": \"When the right ventricle of the heart grows to allow more blood to pump in\", \"Q5\": \"I do not know\", \"Q6\": \"I do not know\", \"Q7\": \"The name of the physician who named the disease\", \"Q8\": \"Stenosis restricts blood flow to the pulmonary and blood follows the easiest path\", \"Q9\": \"How blue the blood becomes\", \"Q10\": \"The narrowing of the pulmonary valve\", \"Q11\": \"2\", \"Q12\": \"There is not enough oxygen in it.\", \"Q13\": \"Squatting on the ground\", \"Q14\": \"I am not too sure\", \"Post Q1_1\": \"No knowledge at all\", \"Post Q1_2\": \"A little knowledge\", \"Speed\": \"2.0x speed\", \"Post Q2\": \"Khoury\", \"SC0\": 6}, {\"Duration (in seconds)\": 538, \"Experimenter\": \"Team\", \"ResponseId\": \"R_padF8unuaXkn4Ix\", \"Intro + Consent\": \"I consent, begin the study\", \"Q64\": null, \"Q1\": \"Right atrium\", \"Q2\": \"Both A and C\", \"Q3\": \"Muscles in the heart are over exercised and becomes thicker\", \"Q4\": \"When the diameter of the vein grows to allow for more oxygen\", \"Q5\": \"Cyanotic, because blue blood is being forced to the left\", \"Q6\": \"Because of pulmonary stenosis\", \"Q7\": \"The part of the heart that is being affected by the disease\", \"Q8\": \"Stenosis restricts blood flow to the pulmonary and blood follows the easiest path\", \"Q9\": \"How hard is it to pump blood\", \"Q10\": \"The narrowing of the pulmonary valve\", \"Q11\": \"4\", \"Q12\": \"idk\", \"Q13\": \"squat\", \"Q14\": \"idk\", \"Post Q1_1\": \"No knowledge at all\", \"Post Q1_2\": \"No knowledge at all\", \"Speed\": \"2.0x speed\", \"Post Q2\": \"Khoury\", \"SC0\": 10}, {\"Duration (in seconds)\": 542, \"Experimenter\": \"Team\", \"ResponseId\": \"R_1gRCVbsJmhBPEe7\", \"Intro + Consent\": \"I consent, begin the study\", \"Q64\": null, \"Q1\": \"Right ventricle\", \"Q2\": \"I do not know\", \"Q3\": \"Muscles in the heart stop getting used and deteriorate over time\", \"Q4\": \"When the diameter of the vein grows to allow for more oxygen\", \"Q5\": \"I do not know\", \"Q6\": \"Because the blood is lacking oxygen\", \"Q7\": \"I do not know\", \"Q8\": \"The aorta lacks blood so the blood rushes to fill it in\", \"Q9\": \"I do not know\", \"Q10\": \"The narrowing of the pulmonary valve\", \"Q11\": \"4\", \"Q12\": \"I do not know\", \"Q13\": \"Squat\", \"Q14\": \"I do not know\", \"Post Q1_1\": \"No knowledge at all\", \"Post Q1_2\": \"No knowledge at all\", \"Speed\": \"2.0x speed\", \"Post Q2\": \"Khoury\", \"SC0\": 5}, {\"Duration (in seconds)\": 603, \"Experimenter\": \"Team\", \"ResponseId\": \"R_322tP3HH9px4BTk\", \"Intro + Consent\": \"I consent, begin the study\", \"Q64\": null, \"Q1\": \"Right atrium\", \"Q2\": \"Both A and C\", \"Q3\": \"Muscles in the heart are over exercised and becomes thicker\", \"Q4\": \"When the diameter of the vein grows to allow for more oxygen\", \"Q5\": \"Cyanotic, because blue blood is being forced to the left\", \"Q6\": \"Because of pulmonary stenosis\", \"Q7\": \"A region in France where the disease was discovered\", \"Q8\": \"Stenosis restricts blood flow to the pulmonary and blood follows the easiest path\", \"Q9\": \"How blue the blood becomes\", \"Q10\": \"When the blood moving through the pulmonary valve flows more slowly than usual\", \"Q11\": \"I don't know, my guess is 5\", \"Q12\": \"Because the oxygen pumped into the blood from the lungs is used by your body, and it goes back into your heart\", \"Q13\": \"I don't know\", \"Q14\": \"I don't know\", \"Post Q1_1\": \"No knowledge at all\", \"Post Q1_2\": \"A little knowledge\", \"Speed\": \"2.0x speed\", \"Post Q2\": \"Khoury\", \"SC0\": 7}, {\"Duration (in seconds)\": 657, \"Experimenter\": \"Team\", \"ResponseId\": \"R_DTwXWzS5DenBkqt\", \"Intro + Consent\": \"I consent, begin the study\", \"Q64\": null, \"Q1\": \"Right ventricle\", \"Q2\": \"Both A and C\", \"Q3\": \"Muscles in the heart are over exercised and becomes thicker\", \"Q4\": \"I do not know\", \"Q5\": \"I do not know\", \"Q6\": \"I do not know\", \"Q7\": \"The name of the physician who named the disease\", \"Q8\": \"Stenosis restricts blood flow to the pulmonary and blood follows the easiest path\", \"Q9\": \"How blue the blood becomes\", \"Q10\": \"I do not know\", \"Q11\": \"4\", \"Q12\": \"Lack of oxygen\", \"Q13\": \"Squat after running around\", \"Q14\": \"I don't know\", \"Post Q1_1\": \"No knowledge at all\", \"Post Q1_2\": \"No knowledge at all\", \"Speed\": \"2.0x speed\", \"Post Q2\": \"Khoury\", \"SC0\": 8}, {\"Duration (in seconds)\": 1639, \"Experimenter\": \"Team\", \"ResponseId\": \"R_1NE6mODFlJcWyLJ\", \"Intro + Consent\": \"I consent, begin the study\", \"Q64\": null, \"Q1\": \"Left atrium\", \"Q2\": \"Both A and C\", \"Q3\": \"Muscles in the heart are over exercised and becomes thicker\", \"Q4\": \"When the diameter of the vein grows to allow for more oxygen\", \"Q5\": \"I do not know\", \"Q6\": \"I do not know\", \"Q7\": \"I do not know\", \"Q8\": \"Stenosis restricts blood flow to the pulmonary and blood follows the easiest path\", \"Q9\": \"How blue the blood becomes\", \"Q10\": \"I do not know\", \"Q11\": \"4\", \"Q12\": \"it is dexoygenated\", \"Q13\": \"squat\", \"Q14\": \"a boot ???\", \"Post Q1_1\": \"No knowledge at all\", \"Post Q1_2\": \"A little knowledge\", \"Speed\": \"2.0x speed\", \"Post Q2\": \"Khoury\", \"SC0\": 8}, {\"Duration (in seconds)\": 307, \"Experimenter\": \"Team\", \"ResponseId\": \"R_25Ed5LtU98TUL6E\", \"Intro + Consent\": \"I consent, begin the study\", \"Q64\": null, \"Q1\": \"Right ventricle\", \"Q2\": \"It squeezes their legs together, which increases the systemic resistance of all the arteries in their body\", \"Q3\": \"Muscles in the heart are over exercised and becomes thicker\", \"Q4\": \"I do not know\", \"Q5\": \"I do not know\", \"Q6\": \"Because the blood is lacking oxygen\", \"Q7\": \"The name of the physician who named the disease\", \"Q8\": \"The defects are in the aorta, allowing more blood to flow in\", \"Q9\": \"I do not know\", \"Q10\": \"The narrowing of the pulmonary valve\", \"Q11\": \"4\", \"Q12\": \"no oxygen\", \"Q13\": \"?\", \"Q14\": \"boot\", \"Post Q1_1\": \"No knowledge at all\", \"Post Q1_2\": \"A little knowledge\", \"Speed\": \"2.0x speed\", \"Post Q2\": \"Khoury\", \"SC0\": 7}, {\"Duration (in seconds)\": 518, \"Experimenter\": \"Team\", \"ResponseId\": \"R_1mxBPEZQ18wQhUC\", \"Intro + Consent\": \"I consent, begin the study\", \"Q64\": null, \"Q1\": \"I do not know\", \"Q2\": \"I do not know\", \"Q3\": \"Muscles in the heart are over exercised and becomes thicker\", \"Q4\": \"I do not know\", \"Q5\": \"I do not know\", \"Q6\": \"I do not know\", \"Q7\": \"I do not know\", \"Q8\": \"I do not know\", \"Q9\": \"I do not know\", \"Q10\": \"I do not know\", \"Q11\": \"idk\", \"Q12\": \"less oxygenated but i already knew that\", \"Q13\": \"idk\", \"Q14\": \"square, rectangle? idk\", \"Post Q1_1\": \"No knowledge at all\", \"Post Q1_2\": \"A little knowledge\", \"Speed\": \"2.0x speed\", \"Post Q2\": \"Khoury\", \"SC0\": 2}, {\"Duration (in seconds)\": 849, \"Experimenter\": \"Team\", \"ResponseId\": \"R_21FYVo5Ga1oJv7u\", \"Intro + Consent\": \"I consent, begin the study\", \"Q64\": null, \"Q1\": \"Right ventricle\", \"Q2\": \"It squeezes their legs together, which increases the systemic resistance of all the arteries in their body\", \"Q3\": \"Muscles in the heart are over exercised and becomes thicker\", \"Q4\": \"When the diameter of the vein grows to allow for more oxygen\", \"Q5\": \"Cyanotic, because blue blood is being forced to the left\", \"Q6\": \"Because of vasodilation of the veins\", \"Q7\": \"The name of the physician who named the disease\", \"Q8\": \"The defects are in the aorta, allowing more blood to flow in\", \"Q9\": \"How hard is it to pump blood\", \"Q10\": \"The narrowing of the pulmonary valve\", \"Q11\": \"4\", \"Q12\": \"oxygen depleted by body\", \"Q13\": \"squat\", \"Q14\": \"boot\", \"Post Q1_1\": \"A little knowledge\", \"Post Q1_2\": \"Some knowledge\", \"Speed\": \"2.0x speed\", \"Post Q2\": \"Khoury\", \"SC0\": 11}, {\"Duration (in seconds)\": 870, \"Experimenter\": \"Team\", \"ResponseId\": \"R_6gOW1epupI1wCcN\", \"Intro + Consent\": \"I consent, begin the study\", \"Q64\": \"Yes, I am prepared to view the video once straight through without taking notes.\", \"Q1\": \"Right ventricle\", \"Q2\": \"It squeezes their legs together, which increases the systemic resistance of all the arteries in their body\", \"Q3\": \"Muscles in the heart are over exercised and becomes thicker\", \"Q4\": \"When the diameter of the aorta grows to allow for more oxygen\", \"Q5\": \"Cyanotic, because there is a lack of blue blood\", \"Q6\": \"I do not know\", \"Q7\": \"The name of the physician who named the disease\", \"Q8\": \"I do not know\", \"Q9\": \"How hard is it to pump blood\", \"Q10\": \"The narrowing of the pulmonary valve\", \"Q11\": \"4\", \"Q12\": \"deoxygenated\", \"Q13\": \"squat\", \"Q14\": \"boot\", \"Post Q1_1\": \"No knowledge at all\", \"Post Q1_2\": \"Some knowledge\", \"Speed\": \"2.0x speed\", \"Post Q2\": \"DMBS\", \"SC0\": 9}, {\"Duration (in seconds)\": 622, \"Experimenter\": \"Team\", \"ResponseId\": \"R_3RfrLDjWEvfu8q6\", \"Intro + Consent\": \"I consent, begin the study\", \"Q64\": \"Yes, I am prepared to view the video once straight through without taking notes.\", \"Q1\": \"Right atrium\", \"Q2\": \"It keeps them from running, which allows the oxygen content in their veins to increase\", \"Q3\": \"Muscles in the heart stop getting used and deteriorate over time\", \"Q4\": \"When the diameter of the aorta grows to allow for more oxygen\", \"Q5\": \"Cyanotic, because blue blood is being forced to the left\", \"Q6\": \"Because of pulmonary stenosis\", \"Q7\": \"The name of the physician who named the disease\", \"Q8\": \"I do not know\", \"Q9\": \"I do not know\", \"Q10\": \"When the blood moving through the pulmonary valve flows more slowly than usual\", \"Q11\": \"4\", \"Q12\": \"Lack of oxygen\", \"Q13\": \"Squatting\", \"Q14\": \"Circle\", \"Post Q1_1\": \"No knowledge at all\", \"Post Q1_2\": \"Some knowledge\", \"Speed\": \"1.5x speed\", \"Post Q2\": \"Khoury\", \"SC0\": 6}, {\"Duration (in seconds)\": 648, \"Experimenter\": \"Team\", \"ResponseId\": \"R_bsEabcLjYc8B08V\", \"Intro + Consent\": \"I consent, begin the study\", \"Q64\": \"Yes, I am prepared to view the video once straight through without taking notes.\", \"Q1\": \"Left ventricle\", \"Q2\": \"It keeps them from running, which allows the oxygen content in their veins to increase\", \"Q3\": \"Muscles in the heart are over exercised and becomes thicker\", \"Q4\": \"When the diameter of the vein grows to allow for more oxygen\", \"Q5\": \"Cyanotic, because blue blood is being forced to the left\", \"Q6\": \"Because the heart is incorrectly on the right side of the body\", \"Q7\": \"The name of the physician who named the disease\", \"Q8\": \"Stenosis restricts blood flow to the pulmonary and blood follows the easiest path\", \"Q9\": \"The number of defects in the heart\", \"Q10\": \"When the blood moving through the pulmonary valve flows more slowly than usual\", \"Q11\": \"2\", \"Q12\": \"Because it is holding carbon and the oxygen has gone to the cells.\", \"Q13\": \"Squat\", \"Q14\": \"A boot\", \"Post Q1_1\": \"No knowledge at all\", \"Post Q1_2\": \"Some knowledge\", \"Speed\": \"1.5x speed\", \"Post Q2\": \"Khoury\", \"SC0\": 8}, {\"Duration (in seconds)\": 882, \"Experimenter\": \"Team\", \"ResponseId\": \"R_2WGaMJM8iXYoiix\", \"Intro + Consent\": \"I consent, begin the study\", \"Q64\": \"Yes, I am prepared to view the video once straight through without taking notes.\", \"Q1\": \"Right ventricle\", \"Q2\": \"It keeps them from running, which allows the oxygen content in their veins to increase\", \"Q3\": \"Muscles in the heart are over exercised and becomes thicker\", \"Q4\": \"When the right ventricle of the heart grows to allow more blood to pump in\", \"Q5\": \"Atrianic, because the valve that pumps blood to the atrium gets restricted\", \"Q6\": \"I do not know\", \"Q7\": \"The part of the heart that is being affected by the disease\", \"Q8\": \"I do not know\", \"Q9\": \"How much the heart changes in shape\", \"Q10\": \"The expansion of the pulmonary valve\", \"Q11\": \"4\", \"Q12\": \"idk\", \"Q13\": \"turn blue\", \"Q14\": \"pyramid\", \"Post Q1_1\": \"No knowledge at all\", \"Post Q1_2\": \"No knowledge at all\", \"Speed\": \"1.5x speed\", \"Post Q2\": \"Khoury\", \"SC0\": 3}, {\"Duration (in seconds)\": 24323, \"Experimenter\": \"Team\", \"ResponseId\": \"R_2fsd2W6yiZVh44m\", \"Intro + Consent\": \"I consent, begin the study\", \"Q64\": \"Yes, I am prepared to view the video once straight through without taking notes.\", \"Q1\": \"Left ventricle\", \"Q2\": \"Both A and C\", \"Q3\": \"I do not know\", \"Q4\": \"I do not know\", \"Q5\": \"I do not know\", \"Q6\": \"I do not know\", \"Q7\": \"I do not know\", \"Q8\": \"Stenosis restricts blood flow to the pulmonary and blood follows the easiest path\", \"Q9\": \"I do not know\", \"Q10\": \"The expansion of the pulmonary valve\", \"Q11\": \"unsure\", \"Q12\": \"oxygen-depletion\", \"Q13\": \"squat\", \"Q14\": \"square\", \"Post Q1_1\": \"No knowledge at all\", \"Post Q1_2\": \"A little knowledge\", \"Speed\": \"1.5x speed\", \"Post Q2\": \"Khoury\", \"SC0\": 4}, {\"Duration (in seconds)\": 634, \"Experimenter\": \"Team\", \"ResponseId\": \"R_2wpmX4fCZ6u2j1z\", \"Intro + Consent\": \"I consent, begin the study\", \"Q64\": \"Yes, I am prepared to view the video once straight through without taking notes.\", \"Q1\": \"I do not know\", \"Q2\": \"Both A and C\", \"Q3\": \"I do not know\", \"Q4\": \"I do not know\", \"Q5\": \"I do not know\", \"Q6\": \"Because the blood is lacking oxygen\", \"Q7\": \"The name of the physician who named the disease\", \"Q8\": \"I do not know\", \"Q9\": \"I do not know\", \"Q10\": \"I do not know\", \"Q11\": \"4\", \"Q12\": \"No oxygen\", \"Q13\": null, \"Q14\": \"Right Angle Shape\", \"Post Q1_1\": \"No knowledge at all\", \"Post Q1_2\": \"No knowledge at all\", \"Speed\": \"1.5x speed\", \"Post Q2\": \"I do not attend Northeastern University\", \"SC0\": 4}, {\"Duration (in seconds)\": 745, \"Experimenter\": \"Team\", \"ResponseId\": \"R_31Zuht96FUDtbxR\", \"Intro + Consent\": \"I consent, begin the study\", \"Q64\": \"Yes, I am prepared to view the video once straight through without taking notes.\", \"Q1\": \"Left ventricle\", \"Q2\": \"Both A and C\", \"Q3\": \"Muscles in the heart are over exercised and becomes thicker\", \"Q4\": \"When the diameter of the vein grows to allow for more oxygen\", \"Q5\": \"I do not know\", \"Q6\": \"Because of pulmonary stenosis\", \"Q7\": \"I do not know\", \"Q8\": \"Stenosis restricts blood flow to the pulmonary and blood follows the easiest path\", \"Q9\": \"How hard is it to pump blood\", \"Q10\": \"The narrowing of the pulmonary valve\", \"Q11\": \"4\", \"Q12\": \"i do not know\", \"Q13\": \"squat\", \"Q14\": \"boot\", \"Post Q1_1\": \"No knowledge at all\", \"Post Q1_2\": \"A little knowledge\", \"Speed\": \"1.5x speed\", \"Post Q2\": \"COE\", \"SC0\": 10}, {\"Duration (in seconds)\": 651, \"Experimenter\": \"Team\", \"ResponseId\": \"R_12GuC7YT0eq71ab\", \"Intro + Consent\": \"I consent, begin the study\", \"Q64\": \"Yes, I am prepared to view the video once straight through without taking notes.\", \"Q1\": \"Right ventricle\", \"Q2\": \"Both A and C\", \"Q3\": \"Muscles in the heart are over exercised and becomes thicker\", \"Q4\": \"When the diameter of the vein grows to allow for more oxygen\", \"Q5\": \"Cyanotic, because blue blood is being forced to the left\", \"Q6\": \"Because the blood is lacking oxygen\", \"Q7\": \"The name of the physician who named the disease\", \"Q8\": \"Stenosis restricts blood flow to the pulmonary and blood follows the easiest path\", \"Q9\": \"The number of defects in the heart\", \"Q10\": \"The narrowing of the pulmonary valve\", \"Q11\": \"4\", \"Q12\": \"No oxygen\", \"Q13\": \"Squat\", \"Q14\": \"Boot\", \"Post Q1_1\": \"No knowledge at all\", \"Post Q1_2\": \"Some knowledge\", \"Speed\": \"1.5x speed\", \"Post Q2\": \"I do not attend Northeastern University\", \"SC0\": 12}, {\"Duration (in seconds)\": 755, \"Experimenter\": \"Team\", \"ResponseId\": \"R_2PmRCOClhmw0nIi\", \"Intro + Consent\": \"I consent, begin the study\", \"Q64\": \"Yes, I am prepared to view the video once straight through without taking notes.\", \"Q1\": \"Right ventricle\", \"Q2\": \"It squeezes their legs together, which increases the systemic resistance of all the arteries in their body\", \"Q3\": \"Veins in the heart get thicker over time\", \"Q4\": \"When the amount of blood that gets pumped into the heart increases\", \"Q5\": \"Cyanotic, because blue blood is being forced to the left\", \"Q6\": \"Because of vasodilation of the veins\", \"Q7\": \"The name of the physician who named the disease\", \"Q8\": \"Stenosis restricts blood flow to the pulmonary and blood follows the easiest path\", \"Q9\": \"How much the heart changes in shape\", \"Q10\": \"The expansion of the pulmonary valve\", \"Q11\": \"4\", \"Q12\": \"Does not get oxygenated when moving from LV to RA\", \"Q13\": \"Squat\", \"Q14\": \"Boot\", \"Post Q1_1\": \"No knowledge at all\", \"Post Q1_2\": \"No knowledge at all\", \"Speed\": \"1.5x speed\", \"Post Q2\": \"I do not attend Northeastern University\", \"SC0\": 8}, {\"Duration (in seconds)\": 748, \"Experimenter\": \"Team\", \"ResponseId\": \"R_3DuoXIKhAtNwPZF\", \"Intro + Consent\": \"I consent, begin the study\", \"Q64\": \"Yes, I am prepared to view the video once straight through without taking notes.\", \"Q1\": \"Left ventricle\", \"Q2\": \"It squeezes their legs together, which increases the systemic resistance of all the arteries in their body\", \"Q3\": \"Muscles in the heart stop getting used and deteriorate over time\", \"Q4\": \"When the diameter of the aorta grows to allow for more oxygen\", \"Q5\": \"I do not know\", \"Q6\": \"Because of vasodilation of the veins\", \"Q7\": \"The name of the physician who named the disease\", \"Q8\": \"I do not know\", \"Q9\": \"How blue the blood becomes\", \"Q10\": \"The expansion of the pulmonary valve\", \"Q11\": \"4\", \"Q12\": \"the nutrients and oxygen were given to the rest of the body\", \"Q13\": \"squat \", \"Q14\": \"a boot\", \"Post Q1_1\": \"No knowledge at all\", \"Post Q1_2\": \"No knowledge at all\", \"Speed\": \"1.5x speed\", \"Post Q2\": \"I do not attend Northeastern University\", \"SC0\": 5}, {\"Duration (in seconds)\": 266689, \"Experimenter\": \"Team\", \"ResponseId\": \"R_9HwNuZQRyStdHxL\", \"Intro + Consent\": \"I consent, begin the study\", \"Q64\": \"Yes, I am prepared to view the video once straight through without taking notes.\", \"Q1\": \"Left atrium\", \"Q2\": \"Both A and C\", \"Q3\": \"Muscles in the heart stop getting used and deteriorate over time\", \"Q4\": \"I do not know\", \"Q5\": \"Cyanotic, because blue blood is being forced to the left\", \"Q6\": \"I do not know\", \"Q7\": \"A region in France where the disease was discovered\", \"Q8\": \"The defects are in the aorta, allowing more blood to flow in\", \"Q9\": \"How blue the blood becomes\", \"Q10\": \"The narrowing of the pulmonary valve\", \"Q11\": \"4\", \"Q12\": \"Does not contain oxygen\", \"Q13\": \"Squat\", \"Q14\": \"Square\", \"Post Q1_1\": \"No knowledge at all\", \"Post Q1_2\": \"A little knowledge\", \"Speed\": \"1.5x speed\", \"Post Q2\": \"Khoury\", \"SC0\": 6}, {\"Duration (in seconds)\": 708, \"Experimenter\": \"Team\", \"ResponseId\": \"R_1dFSgo70bzm3mlx\", \"Intro + Consent\": \"I consent, begin the study\", \"Q64\": \"Yes, I am prepared to view the video once straight through without taking notes.\", \"Q1\": \"Left atrium\", \"Q2\": \"Both A and C\", \"Q3\": \"Muscles in the heart are over exercised and becomes thicker\", \"Q4\": \"When the diameter of the vein grows to allow for more oxygen\", \"Q5\": \"Cyanotic, because there is a lack of blue blood\", \"Q6\": \"I do not know\", \"Q7\": \"The name of the physician who named the disease\", \"Q8\": \"I do not know\", \"Q9\": \"I do not know\", \"Q10\": \"I do not know\", \"Q11\": \"4\", \"Q12\": \"?\", \"Q13\": \"Squat\", \"Q14\": \"Boot\", \"Post Q1_1\": \"No knowledge at all\", \"Post Q1_2\": \"A little knowledge\", \"Speed\": \"1.5x speed\", \"Post Q2\": \"COS\", \"SC0\": 7}, {\"Duration (in seconds)\": 784, \"Experimenter\": \"Team\", \"ResponseId\": \"R_1IzTgYCIJrv2OwF\", \"Intro + Consent\": \"I consent, begin the study\", \"Q64\": \"Yes, I am prepared to view the video once straight through without taking notes.\", \"Q1\": \"Left atrium\", \"Q2\": \"Both A and C\", \"Q3\": \"Muscles in the heart are over exercised and becomes thicker\", \"Q4\": \"I do not know\", \"Q5\": \"Cyanotic, because blue blood is being forced to the left\", \"Q6\": \"I do not know\", \"Q7\": \"The part of the heart that is being affected by the disease\", \"Q8\": \"The aorta lacks blood so the blood rushes to fill it in\", \"Q9\": \"How hard is it to pump blood\", \"Q10\": \"The narrowing of the pulmonary valve\", \"Q11\": \"I don't know\", \"Q12\": \"I don't know\", \"Q13\": \"They move a lot\", \"Q14\": \"I don't know\", \"Post Q1_1\": \"No knowledge at all\", \"Post Q1_2\": \"A little knowledge\", \"Speed\": \"1.0 speed (normal)\", \"Post Q2\": \"Khoury\", \"SC0\": 5}, {\"Duration (in seconds)\": 840, \"Experimenter\": \"Team\", \"ResponseId\": \"R_1nTRXyy5w7w4Fmi\", \"Intro + Consent\": \"I consent, begin the study\", \"Q64\": null, \"Q1\": \"I do not know\", \"Q2\": \"Both A and C\", \"Q3\": \"Muscles in the heart are over exercised and becomes thicker\", \"Q4\": \"I do not know\", \"Q5\": \"I do not know\", \"Q6\": \"I do not know\", \"Q7\": \"I do not know\", \"Q8\": \"Stenosis restricts blood flow to the pulmonary and blood follows the easiest path\", \"Q9\": \"I do not know\", \"Q10\": \"I do not know\", \"Q11\": \"4\", \"Q12\": \"It lacks oxygen\", \"Q13\": \"Squat\", \"Q14\": \"Boot\", \"Post Q1_1\": \"No knowledge at all\", \"Post Q1_2\": \"No knowledge at all\", \"Speed\": \"1.0 speed (normal)\", \"Post Q2\": \"Khoury\", \"SC0\": 7}, {\"Duration (in seconds)\": 934, \"Experimenter\": \"Team\", \"ResponseId\": \"R_reEajirLLVr3ExH\", \"Intro + Consent\": \"I consent, begin the study\", \"Q64\": null, \"Q1\": \"I do not know\", \"Q2\": \"It squeezes their legs together, which increases the systemic resistance of all the arteries in their body\", \"Q3\": \"Muscles in the heart are over exercised and becomes thicker\", \"Q4\": \"I do not know\", \"Q5\": \"I do not know\", \"Q6\": \"I do not know\", \"Q7\": \"The part of the heart that is being affected by the disease\", \"Q8\": \"I do not know\", \"Q9\": \"How hard is it to pump blood\", \"Q10\": \"When the blood moving through the pulmonary valve flows more slowly than usual\", \"Q11\": \"4\", \"Q12\": \"Deoxygenated\", \"Q13\": \"Squat\", \"Q14\": \"Boot\", \"Post Q1_1\": \"No knowledge at all\", \"Post Q1_2\": \"No knowledge at all\", \"Speed\": \"1.0 speed (normal)\", \"Post Q2\": \"Khoury\", \"SC0\": 6}, {\"Duration (in seconds)\": 985, \"Experimenter\": \"Team\", \"ResponseId\": \"R_vC9aIlR0qTGcPQZ\", \"Intro + Consent\": \"I consent, begin the study\", \"Q64\": null, \"Q1\": \"Left atrium\", \"Q2\": \"Both A and C\", \"Q3\": \"Muscles in the heart are over exercised and becomes thicker\", \"Q4\": \"When the right ventricle of the heart grows to allow more blood to pump in\", \"Q5\": \"Cyanotic, because blue blood is being forced to the left\", \"Q6\": \"Because of pulmonary stenosis\", \"Q7\": \"The name of the physician who named the disease\", \"Q8\": \"Stenosis restricts blood flow to the pulmonary and blood follows the easiest path\", \"Q9\": \"How blue the blood becomes\", \"Q10\": \"The narrowing of the pulmonary valve\", \"Q11\": \"4\", \"Q12\": \"because it lacks oxygen\", \"Q13\": \"they squat when running for some time\", \"Q14\": \"boot\", \"Post Q1_1\": \"No knowledge at all\", \"Post Q1_2\": \"No knowledge at all\", \"Speed\": \"1.0 speed (normal)\", \"Post Q2\": \"Khoury\", \"SC0\": 11}, {\"Duration (in seconds)\": 1023, \"Experimenter\": \"Team\", \"ResponseId\": \"R_1pu1BaHrrwoocNp\", \"Intro + Consent\": \"I consent, begin the study\", \"Q64\": null, \"Q1\": \"Right atrium\", \"Q2\": \"Both A and C\", \"Q3\": \"Muscles in the heart are over exercised and becomes thicker\", \"Q4\": \"When the diameter of the vein grows to allow for more oxygen\", \"Q5\": \"Cyanotic, because blue blood is being forced to the left\", \"Q6\": \"Because of pulmonary stenosis\", \"Q7\": \"The name of the physician who named the disease\", \"Q8\": \"Stenosis restricts blood flow to the pulmonary and blood follows the easiest path\", \"Q9\": \"How much the heart changes in shape\", \"Q10\": \"The narrowing of the pulmonary valve\", \"Q11\": \"4\", \"Q12\": \"Lack of oxygen\", \"Q13\": \"turning blue w/ exercise, relieving symptoms w/ vasoconstriction\", \"Q14\": \"Italy! (a boot)\", \"Post Q1_1\": \"No knowledge at all\", \"Post Q1_2\": \"A little knowledge\", \"Speed\": \"1.0 speed (normal)\", \"Post Q2\": \"Khoury\", \"SC0\": 11}, {\"Duration (in seconds)\": 982, \"Experimenter\": \"Team\", \"ResponseId\": \"R_1i3EGEzNC6ME8xG\", \"Intro + Consent\": \"I consent, begin the study\", \"Q64\": null, \"Q1\": \"Right ventricle\", \"Q2\": \"Both A and C\", \"Q3\": \"Muscles in the heart are over exercised and becomes thicker\", \"Q4\": \"When the diameter of the vein grows to allow for more oxygen\", \"Q5\": \"Cyanotic, because blue blood is being forced to the left\", \"Q6\": \"Because of pulmonary stenosis\", \"Q7\": \"I do not know\", \"Q8\": \"Stenosis restricts blood flow to the pulmonary and blood follows the easiest path\", \"Q9\": \"How hard is it to pump blood\", \"Q10\": \"The narrowing of the pulmonary valve\", \"Q11\": \"4\", \"Q12\": \"Its oxygen has been absorbed by muscles.\", \"Q13\": \"After running around, they would suddenly feel bad then stop and squat, then feel better.\", \"Q14\": \"Boot.\", \"Post Q1_1\": \"No knowledge at all\", \"Post Q1_2\": \"Some knowledge\", \"Speed\": \"1.0 speed (normal)\", \"Post Q2\": \"Khoury\", \"SC0\": 13}, {\"Duration (in seconds)\": 1068, \"Experimenter\": \"Team\", \"ResponseId\": \"R_Oru7iKCjXp1xyZb\", \"Intro + Consent\": \"I consent, begin the study\", \"Q64\": null, \"Q1\": \"Right ventricle\", \"Q2\": \"Both A and C\", \"Q3\": \"Muscles in the heart are over exercised and becomes thicker\", \"Q4\": \"When the diameter of the aorta grows to allow for more oxygen\", \"Q5\": \"Cyanotic, because blue blood is being forced to the left\", \"Q6\": \"Because of pulmonary stenosis\", \"Q7\": \"I do not know\", \"Q8\": \"Stenosis restricts blood flow to the pulmonary and blood follows the easiest path\", \"Q9\": \"The number of defects in the heart\", \"Q10\": \"The narrowing of the pulmonary valve\", \"Q11\": \"4\", \"Q12\": \"Because it lacks oxygen\", \"Q13\": \"Squat\", \"Q14\": \"Boot\", \"Post Q1_1\": \"No knowledge at all\", \"Post Q1_2\": \"A little knowledge\", \"Speed\": \"1.0 speed (normal)\", \"Post Q2\": \"Khoury\", \"SC0\": 11}, {\"Duration (in seconds)\": 1054, \"Experimenter\": \"Team\", \"ResponseId\": \"R_Qbjfwr62tgfFNAt\", \"Intro + Consent\": \"I consent, begin the study\", \"Q64\": null, \"Q1\": \"Right ventricle\", \"Q2\": \"Both A and C\", \"Q3\": \"Muscles in the heart are over exercised and becomes thicker\", \"Q4\": \"When the diameter of the aorta grows to allow for more oxygen\", \"Q5\": \"Cyanotic, because blue blood is being forced to the left\", \"Q6\": \"Because of pulmonary stenosis\", \"Q7\": \"The name of the physician who named the disease\", \"Q8\": \"Stenosis restricts blood flow to the pulmonary and blood follows the easiest path\", \"Q9\": \"How hard is it to pump blood\", \"Q10\": \"The narrowing of the pulmonary valve\", \"Q11\": \"4\", \"Q12\": \"low in oxygen\", \"Q13\": \"squat\", \"Q14\": \"boot\", \"Post Q1_1\": \"No knowledge at all\", \"Post Q1_2\": \"A little knowledge\", \"Speed\": \"1.0 speed (normal)\", \"Post Q2\": \"Khoury\", \"SC0\": 13}, {\"Duration (in seconds)\": 956, \"Experimenter\": \"Team\", \"ResponseId\": \"R_qw7NY3oWQigTGQV\", \"Intro + Consent\": \"I consent, begin the study\", \"Q64\": null, \"Q1\": \"I do not know\", \"Q2\": \"Both A and C\", \"Q3\": \"Muscles in the heart are over exercised and becomes thicker\", \"Q4\": \"I do not know\", \"Q5\": \"I do not know\", \"Q6\": \"I do not know\", \"Q7\": \"I do not know\", \"Q8\": \"I do not know\", \"Q9\": \"I do not know\", \"Q10\": \"The narrowing of the pulmonary valve\", \"Q11\": \"2\", \"Q12\": \"Oxygen rich\", \"Q13\": \"Squat\", \"Q14\": \"don't know\", \"Post Q1_1\": \"No knowledge at all\", \"Post Q1_2\": \"No knowledge at all\", \"Speed\": \"1.0 speed (normal)\", \"Post Q2\": \"COE\", \"SC0\": 4}, {\"Duration (in seconds)\": 1285, \"Experimenter\": \"Team\", \"ResponseId\": \"R_3CVCOlPIMf7uG2F\", \"Intro + Consent\": \"I consent, begin the study\", \"Q64\": null, \"Q1\": \"Right atrium\", \"Q2\": \"Both A and C\", \"Q3\": \"Muscles in the heart are over exercised and becomes thicker\", \"Q4\": \"When the diameter of the aorta grows to allow for more oxygen\", \"Q5\": \"Cyanotic, because blue blood is being forced to the left\", \"Q6\": \"Because of pulmonary stenosis\", \"Q7\": \"The name of the physician who named the disease\", \"Q8\": \"Stenosis restricts blood flow to the pulmonary and blood follows the easiest path\", \"Q9\": \"How hard is it to pump blood\", \"Q10\": \"The narrowing of the pulmonary valve\", \"Q11\": \"4\", \"Q12\": \"it has no oxygen \", \"Q13\": \"squat while running\", \"Q14\": \"boot\", \"Post Q1_1\": \"No knowledge at all\", \"Post Q1_2\": \"A little knowledge\", \"Speed\": \"1.0 speed (normal)\", \"Post Q2\": \"Khoury\", \"SC0\": 12}, {\"Duration (in seconds)\": 586, \"Experimenter\": \"Team\", \"ResponseId\": \"R_2tEw9N7xNNemeRv\", \"Intro + Consent\": \"I consent, begin the study\", \"Q64\": \"Yes, I am prepared to view the video once straight through without taking notes.\", \"Q1\": \"Right ventricle\", \"Q2\": \"Both A and C\", \"Q3\": \"I do not know\", \"Q4\": \"I do not know\", \"Q5\": \"Atrianic, because the valve that pumps blood to the atrium gets restricted\", \"Q6\": \"Because the blood is lacking oxygen\", \"Q7\": \"The name of the physician who named the disease\", \"Q8\": \"I do not know\", \"Q9\": \"How hard is it to pump blood\", \"Q10\": \"When the blood moving through the pulmonary valve flows more slowly than usual\", \"Q11\": \"4\", \"Q12\": \"Low oxygen\", \"Q13\": \"Squat\", \"Q14\": \"Boot\", \"Post Q1_1\": \"No knowledge at all\", \"Post Q1_2\": \"No knowledge at all\", \"Speed\": \"1.0 speed (normal)\", \"Post Q2\": \"DMBS\", \"SC0\": 8}]}}, {\"mode\": \"vega-lite\"});\n",
       "</script>"
      ],
      "text/plain": [
       "alt.LayerChart(...)"
      ]
     },
     "execution_count": 3,
     "metadata": {},
     "output_type": "execute_result"
    }
   ],
   "source": [
    "# descriptive statistics\n",
    "print('Short-term mean (1.0x speed):', short_term[short_term.Speed == '1.0 speed (normal)']['SC0'].mean())\n",
    "print('Short-term mean (1.5x speed):', short_term[short_term.Speed == '1.5x speed']['SC0'].mean())\n",
    "print('Short-term mean (2.0x speed):', short_term[short_term.Speed == '2.0x speed']['SC0'].mean())\n",
    "\n",
    "print('Standard deviation (1.0x speed):', short_term[short_term.Speed == '1.0 speed (normal)']['SC0'].std())\n",
    "print('Standard deviation (1.5x speed):', short_term[short_term.Speed == '1.5x speed']['SC0'].std())\n",
    "print('Standard deviation (2.0x speed):', short_term[short_term.Speed == '2.0x speed']['SC0'].std())\n",
    "\n",
    "\n",
    "\n",
    "bar = alt.Chart(short_term).mark_bar().encode(\n",
    "  x='Speed',\n",
    "  y='mean(SC0)'\n",
    ")\n",
    "\n",
    "error_bars = alt.Chart(short_term).mark_errorbar().encode(\n",
    "  x='Speed',\n",
    "  y='mean(SC0)'\n",
    ")\n",
    "\n",
    "bar + error_bars\n",
    "\n",
    "# Short-term mean (1.0x speed): 9.181818181818182\n",
    "# Short-term mean (1.5x speed): 6.636363636363637\n",
    "# Short-term mean (2.0x speed): 7.454545454545454\n",
    "# Standard deviation (1.0x speed): 3.2807981290588977\n",
    "# Standard deviation (1.5x speed): 2.73030134866931\n",
    "# Standard deviation (2.0x speed): 2.5045413298101655"
   ]
  },
  {
   "cell_type": "code",
   "execution_count": 4,
   "id": "f2b77062",
   "metadata": {},
   "outputs": [
    {
     "data": {
      "text/html": [
       "<div>\n",
       "<style scoped>\n",
       "    .dataframe tbody tr th:only-of-type {\n",
       "        vertical-align: middle;\n",
       "    }\n",
       "\n",
       "    .dataframe tbody tr th {\n",
       "        vertical-align: top;\n",
       "    }\n",
       "\n",
       "    .dataframe thead th {\n",
       "        text-align: right;\n",
       "    }\n",
       "</style>\n",
       "<table border=\"1\" class=\"dataframe\">\n",
       "  <thead>\n",
       "    <tr style=\"text-align: right;\">\n",
       "      <th></th>\n",
       "      <th>W</th>\n",
       "      <th>pval</th>\n",
       "      <th>equal_var</th>\n",
       "    </tr>\n",
       "  </thead>\n",
       "  <tbody>\n",
       "    <tr>\n",
       "      <th>levene</th>\n",
       "      <td>0.585185</td>\n",
       "      <td>0.563235</td>\n",
       "      <td>True</td>\n",
       "    </tr>\n",
       "  </tbody>\n",
       "</table>\n",
       "</div>"
      ],
      "text/plain": [
       "               W      pval  equal_var\n",
       "levene  0.585185  0.563235       True"
      ]
     },
     "execution_count": 4,
     "metadata": {},
     "output_type": "execute_result"
    }
   ],
   "source": [
    "# assumption check - variances\n",
    "pg.homoscedasticity(data=short_term, dv=\"SC0\", group=\"Speed\", method=\"levene\", alpha=0.05)\n",
    "\n",
    "# p > 0.05 so we can continue"
   ]
  },
  {
   "cell_type": "code",
   "execution_count": 5,
   "id": "3a681521",
   "metadata": {},
   "outputs": [
    {
     "data": {
      "text/html": [
       "<div>\n",
       "<style scoped>\n",
       "    .dataframe tbody tr th:only-of-type {\n",
       "        vertical-align: middle;\n",
       "    }\n",
       "\n",
       "    .dataframe tbody tr th {\n",
       "        vertical-align: top;\n",
       "    }\n",
       "\n",
       "    .dataframe thead th {\n",
       "        text-align: right;\n",
       "    }\n",
       "</style>\n",
       "<table border=\"1\" class=\"dataframe\">\n",
       "  <thead>\n",
       "    <tr style=\"text-align: right;\">\n",
       "      <th></th>\n",
       "      <th>W</th>\n",
       "      <th>pval</th>\n",
       "      <th>normal</th>\n",
       "    </tr>\n",
       "    <tr>\n",
       "      <th>Speed</th>\n",
       "      <th></th>\n",
       "      <th></th>\n",
       "      <th></th>\n",
       "    </tr>\n",
       "  </thead>\n",
       "  <tbody>\n",
       "    <tr>\n",
       "      <th>2.0x speed</th>\n",
       "      <td>0.953100</td>\n",
       "      <td>0.683741</td>\n",
       "      <td>True</td>\n",
       "    </tr>\n",
       "    <tr>\n",
       "      <th>1.5x speed</th>\n",
       "      <td>0.953966</td>\n",
       "      <td>0.694880</td>\n",
       "      <td>True</td>\n",
       "    </tr>\n",
       "    <tr>\n",
       "      <th>1.0 speed (normal)</th>\n",
       "      <td>0.897870</td>\n",
       "      <td>0.174074</td>\n",
       "      <td>True</td>\n",
       "    </tr>\n",
       "  </tbody>\n",
       "</table>\n",
       "</div>"
      ],
      "text/plain": [
       "                           W      pval  normal\n",
       "Speed                                         \n",
       "2.0x speed          0.953100  0.683741    True\n",
       "1.5x speed          0.953966  0.694880    True\n",
       "1.0 speed (normal)  0.897870  0.174074    True"
      ]
     },
     "execution_count": 5,
     "metadata": {},
     "output_type": "execute_result"
    }
   ],
   "source": [
    "# assumption check - normality\n",
    "pg.normality(data=short_term, dv=\"SC0\", group=\"Speed\")\n",
    "\n",
    "# p > 0.05 for all playback speeds so we can continue"
   ]
  },
  {
   "cell_type": "code",
   "execution_count": 6,
   "id": "313e1ff3",
   "metadata": {},
   "outputs": [
    {
     "data": {
      "text/html": [
       "<div>\n",
       "<style scoped>\n",
       "    .dataframe tbody tr th:only-of-type {\n",
       "        vertical-align: middle;\n",
       "    }\n",
       "\n",
       "    .dataframe tbody tr th {\n",
       "        vertical-align: top;\n",
       "    }\n",
       "\n",
       "    .dataframe thead th {\n",
       "        text-align: right;\n",
       "    }\n",
       "</style>\n",
       "<table border=\"1\" class=\"dataframe\">\n",
       "  <thead>\n",
       "    <tr style=\"text-align: right;\">\n",
       "      <th></th>\n",
       "      <th>Source</th>\n",
       "      <th>SS</th>\n",
       "      <th>DF</th>\n",
       "      <th>MS</th>\n",
       "      <th>F</th>\n",
       "      <th>p-unc</th>\n",
       "      <th>np2</th>\n",
       "    </tr>\n",
       "  </thead>\n",
       "  <tbody>\n",
       "    <tr>\n",
       "      <th>0</th>\n",
       "      <td>Speed</td>\n",
       "      <td>37.151515</td>\n",
       "      <td>2</td>\n",
       "      <td>18.575758</td>\n",
       "      <td>2.275427</td>\n",
       "      <td>0.120209</td>\n",
       "      <td>0.131715</td>\n",
       "    </tr>\n",
       "    <tr>\n",
       "      <th>1</th>\n",
       "      <td>Within</td>\n",
       "      <td>244.909091</td>\n",
       "      <td>30</td>\n",
       "      <td>8.163636</td>\n",
       "      <td>NaN</td>\n",
       "      <td>NaN</td>\n",
       "      <td>NaN</td>\n",
       "    </tr>\n",
       "  </tbody>\n",
       "</table>\n",
       "</div>"
      ],
      "text/plain": [
       "   Source          SS  DF         MS         F     p-unc       np2\n",
       "0   Speed   37.151515   2  18.575758  2.275427  0.120209  0.131715\n",
       "1  Within  244.909091  30   8.163636       NaN       NaN       NaN"
      ]
     },
     "execution_count": 6,
     "metadata": {},
     "output_type": "execute_result"
    }
   ],
   "source": [
    "# p > 0.05, so no significant results. no post-hoc tests\n",
    "pg.anova(data=short_term, dv=\"SC0\", between=\"Speed\", detailed=True)"
   ]
  },
  {
   "cell_type": "code",
   "execution_count": 7,
   "id": "bfead797",
   "metadata": {},
   "outputs": [
    {
     "data": {
      "image/png": "[encoded data removed]",
      "text/plain": [
       "<Figure size 640x480 with 1 Axes>"
      ]
     },
     "metadata": {},
     "output_type": "display_data"
    }
   ],
   "source": [
    "ax = sns.boxplot(x=\"Speed\", y=\"SC0\", data=short_term, color=\"#99c2a2\")\n",
    "ax = sns.swarmplot(x=\"Speed\", y=\"SC0\", data=short_term)\n",
    "ax.invert_xaxis()\n",
    "plt.show()"
   ]
  }
 ],
 "metadata": {
  "kernelspec": {
   "display_name": "Python 3",
   "language": "python",
   "name": "python3"
  },
  "language_info": {
   "codemirror_mode": {
    "name": "ipython",
    "version": 3
   },
   "file_extension": ".py",
   "mimetype": "text/x-python",
   "name": "python",
   "nbconvert_exporter": "python",
   "pygments_lexer": "ipython3",
   "version": "3.9.7"
  }
 },
 "nbformat": 4,
 "nbformat_minor": 5
}
