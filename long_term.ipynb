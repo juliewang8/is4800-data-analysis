{
 "cells": [
  {
   "cell_type": "code",
   "execution_count": 1,
   "id": "0caedd41",
   "metadata": {},
   "outputs": [],
   "source": [
    "import numpy as np\n",
    "import matplotlib.pyplot as plt\n",
    "import pandas as pd\n",
    "import pingouin as pg\n",
    "import seaborn as sns\n",
    "import altair as alt"
   ]
  },
  {
   "cell_type": "code",
   "execution_count": 2,
   "metadata": {},
   "outputs": [],
   "source": [
    "long_term = pd.read_csv(\"./data/long_term.csv\")"
   ]
  },
  {
   "cell_type": "code",
   "execution_count": 3,
   "id": "0c3745f1",
   "metadata": {},
   "outputs": [
    {
     "name": "stdout",
     "output_type": "stream",
     "text": [
      "Long-term mean (1.0x speed): 10.0\n",
      "Long-term mean (1.5x speed): 8.125\n",
      "Long-term mean (2.0x speed): 8.5\n",
      "Standard deviation (1.0x speed): 3.22490309931942\n",
      "Standard deviation (1.5x speed): 3.3567628964311944\n",
      "Standard deviation (2.0x speed): 2.588435821108957\n"
     ]
    },
    {
     "data": {
      "text/html": [
       "\n",
       "<div id=\"altair-viz-057f2aade70e4adc830ac08035814a13\"></div>\n",
       "<script type=\"text/javascript\">\n",
       "  var VEGA_DEBUG = (typeof VEGA_DEBUG == \"undefined\") ? {} : VEGA_DEBUG;\n",
       "  (function(spec, embedOpt){\n",
       "    let outputDiv = document.currentScript.previousElementSibling;\n",
       "    if (outputDiv.id !== \"altair-viz-057f2aade70e4adc830ac08035814a13\") {\n",
       "      outputDiv = document.getElementById(\"altair-viz-057f2aade70e4adc830ac08035814a13\");\n",
       "    }\n",
       "    const paths = {\n",
       "      \"vega\": \"https://cdn.jsdelivr.net/npm//vega@5?noext\",\n",
       "      \"vega-lib\": \"https://cdn.jsdelivr.net/npm//vega-lib?noext\",\n",
       "      \"vega-lite\": \"https://cdn.jsdelivr.net/npm//vega-lite@4.17.0?noext\",\n",
       "      \"vega-embed\": \"https://cdn.jsdelivr.net/npm//vega-embed@6?noext\",\n",
       "    };\n",
       "\n",
       "    function maybeLoadScript(lib, version) {\n",
       "      var key = `${lib.replace(\"-\", \"\")}_version`;\n",
       "      return (VEGA_DEBUG[key] == version) ?\n",
       "        Promise.resolve(paths[lib]) :\n",
       "        new Promise(function(resolve, reject) {\n",
       "          var s = document.createElement('script');\n",
       "          document.getElementsByTagName(\"head\")[0].appendChild(s);\n",
       "          s.async = true;\n",
       "          s.onload = () => {\n",
       "            VEGA_DEBUG[key] = version;\n",
       "            return resolve(paths[lib]);\n",
       "          };\n",
       "          s.onerror = () => reject(`Error loading script: ${paths[lib]}`);\n",
       "          s.src = paths[lib];\n",
       "        });\n",
       "    }\n",
       "\n",
       "    function showError(err) {\n",
       "      outputDiv.innerHTML = `<div class=\"error\" style=\"color:red;\">${err}</div>`;\n",
       "      throw err;\n",
       "    }\n",
       "\n",
       "    function displayChart(vegaEmbed) {\n",
       "      vegaEmbed(outputDiv, spec, embedOpt)\n",
       "        .catch(err => showError(`Javascript Error: ${err.message}<br>This usually means there's a typo in your chart specification. See the javascript console for the full traceback.`));\n",
       "    }\n",
       "\n",
       "    if(typeof define === \"function\" && define.amd) {\n",
       "      requirejs.config({paths});\n",
       "      require([\"vega-embed\"], displayChart, err => showError(`Error loading script: ${err.message}`));\n",
       "    } else {\n",
       "      maybeLoadScript(\"vega\", \"5\")\n",
       "        .then(() => maybeLoadScript(\"vega-lite\", \"4.17.0\"))\n",
       "        .then(() => maybeLoadScript(\"vega-embed\", \"6\"))\n",
       "        .catch(showError)\n",
       "        .then(() => displayChart(vegaEmbed));\n",
       "    }\n",
       "  })({\"config\": {\"view\": {\"continuousWidth\": 400, \"continuousHeight\": 300}}, \"layer\": [{\"mark\": \"bar\", \"encoding\": {\"x\": {\"field\": \"Speed\", \"type\": \"nominal\"}, \"y\": {\"aggregate\": \"mean\", \"field\": \"SC0\", \"type\": \"quantitative\"}}}, {\"mark\": \"errorbar\", \"encoding\": {\"x\": {\"field\": \"Speed\", \"type\": \"nominal\"}, \"y\": {\"aggregate\": \"mean\", \"field\": \"SC0\", \"type\": \"quantitative\"}}}], \"data\": {\"name\": \"data-370f48e7ca34400071948ffa04e75421\"}, \"$schema\": \"https://vega.github.io/schema/vega-lite/v4.17.0.json\", \"datasets\": {\"data-370f48e7ca34400071948ffa04e75421\": [{\"Duration (in seconds)\": 312, \"Experimenter\": null, \"ResponseId\": \"R_3MGWyBZxRchQOZq\", \"Intro + Consent\": \"I consent, begin the study\", \"Q1\": \"A region in France where the disease was discovered\", \"Q2\": \"The narrowing of the pulmonary valve\", \"Q3\": \"Cyanotic, because blue blood is being forced to the left\", \"Q4\": \"Both A and C\", \"Q5\": \"Right ventricle\", \"Q6\": \"When the diameter of the vein grows to allow for more oxygen\", \"Q7\": \"Stenosis restricts blood flow to the pulmonary and blood follows the easiest path\", \"Q8\": \"Because of pulmonary stenosis\", \"Q9\": \"How hard is it to pump blood\", \"Q10\": \"Muscles in the heart are over exercised and becomes thicker\", \"Q11\": \"Because it has no oxygen because the muscles absorbed it.\", \"Q12\": \"They would stop running and squat for a few seconds.\", \"Q59\": \"A boot.\", \"Q60\": \"4\", \"Post Q1_1\": \"No knowledge at all\", \"Post Q1_2\": \"Some knowledge\", \"Speed\": \"1.0 speed (normal)\", \"Post Q2\": \"Khoury\", \"SC0\": 12}, {\"Duration (in seconds)\": 80, \"Experimenter\": null, \"ResponseId\": \"R_vwME25demEnw2PL\", \"Intro + Consent\": \"I consent, begin the study\", \"Q1\": \"The part of the heart that is being affected by the disease\", \"Q2\": \"The narrowing of the pulmonary valve\", \"Q3\": \"Atrianic, because the valve that pumps blood to the atrium gets restricted\", \"Q4\": \"Both A and C\", \"Q5\": \"Right atrium\", \"Q6\": \"When the diameter of the vein grows to allow for more oxygen\", \"Q7\": \"Stenosis restricts blood flow to the pulmonary and blood follows the easiest path\", \"Q8\": \"Because of pulmonary stenosis\", \"Q9\": \"How blue the blood becomes\", \"Q10\": \"Muscles in the heart are over exercised and becomes thicker\", \"Q11\": \"it loses oxygen\", \"Q12\": \"turn red\", \"Q59\": \"pyramid\", \"Q60\": \"4\", \"Post Q1_1\": \"No knowledge at all\", \"Post Q1_2\": \"No knowledge at all\", \"Speed\": \"1.5x speed\", \"Post Q2\": \"Khoury\", \"SC0\": 7}, {\"Duration (in seconds)\": 133, \"Experimenter\": null, \"ResponseId\": \"R_1o11thnhOnTgFoe\", \"Intro + Consent\": \"I consent, begin the study\", \"Q1\": \"A region in France where the disease was discovered\", \"Q2\": \"The narrowing of the pulmonary valve\", \"Q3\": \"Atrianic, because the valve that pumps blood to the atrium gets restricted\", \"Q4\": \"Both A and C\", \"Q5\": \"Right atrium\", \"Q6\": \"When the diameter of the vein grows to allow for more oxygen\", \"Q7\": \"The defects are in the aorta, allowing more blood to flow in\", \"Q8\": \"Because the blood is lacking oxygen\", \"Q9\": \"How hard is it to pump blood\", \"Q10\": \"Muscles in the heart stop getting used and deteriorate over time\", \"Q11\": \"I don\\u2019t know\", \"Q12\": \"I don\\u2019t know\", \"Q59\": \"I don\\u2019t know\", \"Q60\": \"4\", \"Post Q1_1\": \"No knowledge at all\", \"Post Q1_2\": \"No knowledge at all\", \"Speed\": \"2.0x speed\", \"Post Q2\": \"Khoury\", \"SC0\": 5}, {\"Duration (in seconds)\": 81, \"Experimenter\": null, \"ResponseId\": \"R_O7k8a8VQkrB9B9n\", \"Intro + Consent\": \"I consent, begin the study\", \"Q1\": \"The name of the physician who named the disease\", \"Q2\": \"When the blood moving through the pulmonary valve flows more slowly than usual\", \"Q3\": \"Atrianic, because the blood doesn't reach the atrium as quickly as it should\", \"Q4\": \"It keeps them from running, which allows the oxygen content in their veins to increase\", \"Q5\": \"Right ventricle\", \"Q6\": \"When the diameter of the aorta grows to allow for more oxygen\", \"Q7\": \"Stenosis restricts blood flow to the pulmonary and blood follows the easiest path\", \"Q8\": \"Because the blood is lacking oxygen\", \"Q9\": \"How hard is it to pump blood\", \"Q10\": \"Muscles in the heart are over exercised and becomes thicker\", \"Q11\": \"No oxygen\", \"Q12\": \"Squat\", \"Q59\": \"Boot\", \"Q60\": \"2\", \"Post Q1_1\": \"No knowledge at all\", \"Post Q1_2\": \"Some knowledge\", \"Speed\": \"1.5x speed\", \"Post Q2\": \"Khoury\", \"SC0\": 9}, {\"Duration (in seconds)\": 603, \"Experimenter\": null, \"ResponseId\": \"R_1py8yi4I5i3stBH\", \"Intro + Consent\": \"I consent, begin the study\", \"Q1\": \"The name of the physician who named the disease\", \"Q2\": \"The narrowing of the pulmonary valve\", \"Q3\": \"Cyanotic, because blue blood is being forced to the left\", \"Q4\": \"Both A and C\", \"Q5\": \"Left atrium\", \"Q6\": \"When the diameter of the aorta grows to allow for more oxygen\", \"Q7\": \"The defects are in the aorta, allowing more blood to flow in\", \"Q8\": \"Because of pulmonary stenosis\", \"Q9\": \"How blue the blood becomes\", \"Q10\": \"The heart gets thinner over time\", \"Q11\": \"idk\", \"Q12\": \"idk\", \"Q59\": \"idk\", \"Q60\": \"idk\", \"Post Q1_1\": \"No knowledge at all\", \"Post Q1_2\": \"A little knowledge\", \"Speed\": \"1.0 speed (normal)\", \"Post Q2\": \"Khoury\", \"SC0\": 5}, {\"Duration (in seconds)\": 123, \"Experimenter\": null, \"ResponseId\": \"R_1HjmbdjFD4p8Uu3\", \"Intro + Consent\": \"I consent, begin the study\", \"Q1\": \"A region in France where the disease was discovered\", \"Q2\": \"The expansion of the pulmonary valve\", \"Q3\": \"Atrianic, because the valve that pumps blood to the atrium gets restricted\", \"Q4\": \"Both A and C\", \"Q5\": \"Left atrium\", \"Q6\": \"When the amount of blood that gets pumped into the heart increases\", \"Q7\": \"Stenosis restricts blood flow to the pulmonary and blood follows the easiest path\", \"Q8\": \"Because the blood is lacking oxygen\", \"Q9\": \"The number of defects in the heart\", \"Q10\": \"Muscles in the heart are over exercised and becomes thicker\", \"Q11\": \"It lacks oxygen\", \"Q12\": \"They squat a lot\", \"Q59\": \"Boot\", \"Q60\": \"4\", \"Post Q1_1\": \"No knowledge at all\", \"Post Q1_2\": \"No knowledge at all\", \"Speed\": \"1.0 speed (normal)\", \"Post Q2\": \"Khoury\", \"SC0\": 7}, {\"Duration (in seconds)\": 240, \"Experimenter\": null, \"ResponseId\": \"R_3JJFyoUTqQkmGlD\", \"Intro + Consent\": \"I consent, begin the study\", \"Q1\": \"The name of the physician who named the disease\", \"Q2\": \"The narrowing of the pulmonary valve\", \"Q3\": \"Atrianic, because the valve that pumps blood to the atrium gets restricted\", \"Q4\": \"Both A and C\", \"Q5\": \"Left atrium\", \"Q6\": \"When the diameter of the vein grows to allow for more oxygen\", \"Q7\": \"Stenosis restricts blood flow to the pulmonary and blood follows the easiest path\", \"Q8\": \"Because of pulmonary stenosis\", \"Q9\": \"How blue the blood becomes\", \"Q10\": \"Muscles in the heart stop getting used and deteriorate over time\", \"Q11\": \"Oxygen is used up?\", \"Q12\": \"Squat after running\", \"Q59\": null, \"Q60\": \"4\", \"Post Q1_1\": \"No knowledge at all\", \"Post Q1_2\": \"No knowledge at all\", \"Speed\": \"2.0x speed\", \"Post Q2\": \"Khoury\", \"SC0\": 9}, {\"Duration (in seconds)\": 334, \"Experimenter\": null, \"ResponseId\": \"R_2c5CNVB2hjYwSUe\", \"Intro + Consent\": \"I consent, begin the study\", \"Q1\": \"A region in France where the disease was discovered\", \"Q2\": \"The narrowing of the pulmonary valve\", \"Q3\": \"Cyanotic, because blue blood is being forced to the left\", \"Q4\": \"Both A and C\", \"Q5\": \"Left atrium\", \"Q6\": \"When the diameter of the aorta grows to allow for more oxygen\", \"Q7\": \"Stenosis restricts blood flow to the pulmonary and blood follows the easiest path\", \"Q8\": \"Because of pulmonary stenosis\", \"Q9\": \"How hard is it to pump blood\", \"Q10\": \"Muscles in the heart are over exercised and becomes thicker\", \"Q11\": \"Because it lacks oxygen\", \"Q12\": \"Squat\", \"Q59\": \"Boot\", \"Q60\": \"Four\", \"Post Q1_1\": \"No knowledge at all\", \"Post Q1_2\": \"A little knowledge\", \"Speed\": \"1.0 speed (normal)\", \"Post Q2\": \"Khoury\", \"SC0\": 11}, {\"Duration (in seconds)\": 312, \"Experimenter\": null, \"ResponseId\": \"R_3MGWyBZxRchQOZq\", \"Intro + Consent\": \"I consent, begin the study\", \"Q1\": \"A region in France where the disease was discovered\", \"Q2\": \"The narrowing of the pulmonary valve\", \"Q3\": \"Cyanotic, because blue blood is being forced to the left\", \"Q4\": \"Both A and C\", \"Q5\": \"Right ventricle\", \"Q6\": \"When the diameter of the vein grows to allow for more oxygen\", \"Q7\": \"Stenosis restricts blood flow to the pulmonary and blood follows the easiest path\", \"Q8\": \"Because of pulmonary stenosis\", \"Q9\": \"How hard is it to pump blood\", \"Q10\": \"Muscles in the heart are over exercised and becomes thicker\", \"Q11\": \"Because it has no oxygen because the muscles absorbed it.\", \"Q12\": \"They would stop running and squat for a few seconds.\", \"Q59\": \"A boot.\", \"Q60\": \"4\", \"Post Q1_1\": \"No knowledge at all\", \"Post Q1_2\": \"Some knowledge\", \"Speed\": \"1.0 speed (normal)\", \"Post Q2\": \"Khoury\", \"SC0\": 12}, {\"Duration (in seconds)\": 31659, \"Experimenter\": null, \"ResponseId\": \"R_3lrBWQgmn2MgiUd\", \"Intro + Consent\": \"I consent, begin the study\", \"Q1\": \"A region in France where the disease was discovered\", \"Q2\": \"When the blood moving through the pulmonary valve flows more slowly than usual\", \"Q3\": \"Cyanotic, because blue blood is being forced to the left\", \"Q4\": \"Both A and C\", \"Q5\": \"Left atrium\", \"Q6\": \"When the diameter of the vein grows to allow for more oxygen\", \"Q7\": \"Stenosis restricts blood flow to the pulmonary and blood follows the easiest path\", \"Q8\": \"Because of pulmonary stenosis\", \"Q9\": \"How blue the blood becomes\", \"Q10\": \"Muscles in the heart are over exercised and becomes thicker\", \"Q11\": \"It is deoxygenated\", \"Q12\": \"Squat\", \"Q59\": \"Boot\", \"Q60\": \"4\", \"Post Q1_1\": \"No knowledge at all\", \"Post Q1_2\": \"A little knowledge\", \"Speed\": \"2.0x speed\", \"Post Q2\": \"Khoury\", \"SC0\": 10}, {\"Duration (in seconds)\": 212, \"Experimenter\": null, \"ResponseId\": \"R_2qE2znmh2gAriCp\", \"Intro + Consent\": \"I consent, begin the study\", \"Q1\": \"The name of the physician who named the disease\", \"Q2\": \"The narrowing of the pulmonary valve\", \"Q3\": \"Atrianic, because the valve that pumps blood to the atrium gets restricted\", \"Q4\": \"Both A and C\", \"Q5\": \"Left atrium\", \"Q6\": \"When the diameter of the vein grows to allow for more oxygen\", \"Q7\": \"Stenosis restricts blood flow to the pulmonary and blood follows the easiest path\", \"Q8\": \"Because of pulmonary stenosis\", \"Q9\": \"How hard is it to pump blood\", \"Q10\": \"Muscles in the heart are over exercised and becomes thicker\", \"Q11\": \"lack of oxygen\", \"Q12\": \"squat\", \"Q59\": \"boot\", \"Q60\": \"4\", \"Post Q1_1\": \"A little knowledge\", \"Post Q1_2\": \"A little knowledge\", \"Speed\": \"1.5x speed\", \"Post Q2\": \"COE\", \"SC0\": 12}, {\"Duration (in seconds)\": 508, \"Experimenter\": null, \"ResponseId\": \"R_1f3OGcCv8iC2rg0\", \"Intro + Consent\": \"I consent, begin the study\", \"Q1\": \"The name of the physician who named the disease\", \"Q2\": \"The narrowing of the pulmonary valve\", \"Q3\": \"Cyanotic, because blue blood is being forced to the left\", \"Q4\": \"Both A and C\", \"Q5\": \"Right ventricle\", \"Q6\": \"When the diameter of the vein grows to allow for more oxygen\", \"Q7\": \"Stenosis restricts blood flow to the pulmonary and blood follows the easiest path\", \"Q8\": \"Because of pulmonary stenosis\", \"Q9\": \"How hard is it to pump blood\", \"Q10\": \"Veins in the heart get thicker over time\", \"Q11\": \"lack of oxygen\", \"Q12\": \"squat\", \"Q59\": \"boot\", \"Q60\": \"four\", \"Post Q1_1\": \"No knowledge at all\", \"Post Q1_2\": \"A little knowledge\", \"Speed\": \"1.0 speed (normal)\", \"Post Q2\": \"Khoury\", \"SC0\": 13}, {\"Duration (in seconds)\": 114, \"Experimenter\": null, \"ResponseId\": \"R_soHrp8zppJeHVwR\", \"Intro + Consent\": \"I consent, begin the study\", \"Q1\": \"The name of the physician who named the disease\", \"Q2\": \"The narrowing of the pulmonary valve\", \"Q3\": \"Cyanotic, because there is a lack of blue blood\", \"Q4\": \"It squeezes their legs together, which increases the systemic resistance of all the arteries in their body\", \"Q5\": \"Left ventricle\", \"Q6\": \"When the diameter of the vein grows to allow for more oxygen\", \"Q7\": \"The aorta lacks blood so the blood rushes to fill it in\", \"Q8\": \"Because of pulmonary stenosis\", \"Q9\": \"How hard is it to pump blood\", \"Q10\": \"Veins in the heart get thicker over time\", \"Q11\": \"Deoxygenated \", \"Q12\": \"Squat\", \"Q59\": \"Boot\", \"Q60\": \"4\", \"Post Q1_1\": \"No knowledge at all\", \"Post Q1_2\": \"A little knowledge\", \"Speed\": \"2.0x speed\", \"Post Q2\": \"DMBS\", \"SC0\": 9}, {\"Duration (in seconds)\": 137, \"Experimenter\": null, \"ResponseId\": \"R_UunZANBgvBOHQUV\", \"Intro + Consent\": \"I consent, begin the study\", \"Q1\": \"The name of the physician who named the disease\", \"Q2\": \"The expansion of the pulmonary valve\", \"Q3\": \"Atrianic, because the valve that pumps blood to the atrium gets restricted\", \"Q4\": \"It squeezes their legs together, which increases the systemic resistance of all the arteries in their body\", \"Q5\": \"Left ventricle\", \"Q6\": \"When the diameter of the vein grows to allow for more oxygen\", \"Q7\": \"The defects are in the aorta, allowing more blood to flow in\", \"Q8\": \"Because of pulmonary stenosis\", \"Q9\": \"How hard is it to pump blood\", \"Q10\": \"Muscles in the heart stop getting used and deteriorate over time\", \"Q11\": \"It has more oxygen \", \"Q12\": \"Squat \", \"Q59\": \"A boot\", \"Q60\": \"4\", \"Post Q1_1\": \"No knowledge at all\", \"Post Q1_2\": \"No knowledge at all\", \"Speed\": \"1.5x speed\", \"Post Q2\": \"I do not attend Northeastern University\", \"SC0\": 7}, {\"Duration (in seconds)\": 167, \"Experimenter\": null, \"ResponseId\": \"R_2t1f5GOH3V7uWRz\", \"Intro + Consent\": \"I consent, begin the study\", \"Q1\": \"The name of the physician who named the disease\", \"Q2\": \"The expansion of the pulmonary valve\", \"Q3\": \"Atrianic, because the valve that pumps blood to the atrium gets restricted\", \"Q4\": \"Both A and C\", \"Q5\": \"Right atrium\", \"Q6\": \"When the right ventricle of the heart grows to allow more blood to pump in\", \"Q7\": \"The aorta lacks blood so the blood rushes to fill it in\", \"Q8\": \"Because the blood is lacking oxygen\", \"Q9\": \"How much the heart changes in shape\", \"Q10\": \"Veins in the heart get thicker over time\", \"Q11\": \"Oxygen enters the blood\", \"Q12\": \"Squat\", \"Q59\": \"Boot\", \"Q60\": \"4\", \"Post Q1_1\": \"No knowledge at all\", \"Post Q1_2\": \"No knowledge at all\", \"Speed\": \"1.5x speed\", \"Post Q2\": \"I do not attend Northeastern University\", \"SC0\": 5}, {\"Duration (in seconds)\": 191, \"Experimenter\": null, \"ResponseId\": \"R_vkokThgBxKzSvDj\", \"Intro + Consent\": \"I consent, begin the study\", \"Q1\": \"The part of the heart that is being affected by the disease\", \"Q2\": \"The narrowing of the pulmonary valve\", \"Q3\": \"Cyanotic, because blue blood is being forced to the left\", \"Q4\": \"Both A and C\", \"Q5\": \"Right atrium\", \"Q6\": \"When the diameter of the vein grows to allow for more oxygen\", \"Q7\": \"Stenosis restricts blood flow to the pulmonary and blood follows the easiest path\", \"Q8\": \"Because the blood is lacking oxygen\", \"Q9\": \"The number of defects in the heart\", \"Q10\": \"Muscles in the heart are over exercised and becomes thicker\", \"Q11\": \"Lacks oxygen\", \"Q12\": \"Cry\", \"Q59\": \"Boot\", \"Q60\": \"4\", \"Post Q1_1\": \"A little knowledge\", \"Post Q1_2\": \"A little knowledge\", \"Speed\": \"1.5x speed\", \"Post Q2\": \"I do not attend Northeastern University\", \"SC0\": 9}, {\"Duration (in seconds)\": 127, \"Experimenter\": null, \"ResponseId\": \"R_32Sn3KtWiuut0rm\", \"Intro + Consent\": \"I consent, begin the study\", \"Q1\": \"The name of the physician who named the disease\", \"Q2\": \"I do not know\", \"Q3\": \"Atrianic, because the valve that pumps blood to the atrium gets restricted\", \"Q4\": \"It squeezes their legs together, which increases the systemic resistance of all the arteries in their body\", \"Q5\": \"Left atrium\", \"Q6\": \"When the diameter of the aorta grows to allow for more oxygen\", \"Q7\": \"I do not know\", \"Q8\": \"Because the blood is lacking oxygen\", \"Q9\": \"The number of defects in the heart\", \"Q10\": \"Veins in the heart get thicker over time\", \"Q11\": \"has no oxygen\", \"Q12\": null, \"Q59\": \"circle\", \"Q60\": \"4\", \"Post Q1_1\": \"No knowledge at all\", \"Post Q1_2\": \"No knowledge at all\", \"Speed\": \"1.5x speed\", \"Post Q2\": \"I do not attend Northeastern University\", \"SC0\": 3}, {\"Duration (in seconds)\": 142, \"Experimenter\": null, \"ResponseId\": \"R_3puuNA5888a2jVO\", \"Intro + Consent\": \"I consent, begin the study\", \"Q1\": \"The name of the physician who named the disease\", \"Q2\": \"The narrowing of the pulmonary valve\", \"Q3\": \"Cyanotic, because blue blood is being forced to the left\", \"Q4\": \"Both A and C\", \"Q5\": \"Right ventricle\", \"Q6\": \"When the diameter of the vein grows to allow for more oxygen\", \"Q7\": \"Stenosis restricts blood flow to the pulmonary and blood follows the easiest path\", \"Q8\": \"Because of pulmonary stenosis\", \"Q9\": \"How hard is it to pump blood\", \"Q10\": \"Muscles in the heart are over exercised and becomes thicker\", \"Q11\": \"It's deoxygenated\", \"Q12\": \"The squat\", \"Q59\": \"Tetrahedron\", \"Q60\": \"Four\", \"Post Q1_1\": \"No knowledge at all\", \"Post Q1_2\": \"Some knowledge\", \"Speed\": \"1.5x speed\", \"Post Q2\": \"I do not attend Northeastern University\", \"SC0\": 13}, {\"Duration (in seconds)\": 128, \"Experimenter\": null, \"ResponseId\": \"R_YSMOLbmvSbuxLSV\", \"Intro + Consent\": \"I consent, begin the study\", \"Q1\": \"The name of the physician who named the disease\", \"Q2\": \"The narrowing of the pulmonary valve\", \"Q3\": \"Cyanotic, because there is a lack of blue blood\", \"Q4\": \"Both A and C\", \"Q5\": \"Left ventricle\", \"Q6\": \"When the diameter of the vein grows to allow for more oxygen\", \"Q7\": \"I do not know\", \"Q8\": \"I do not know\", \"Q9\": \"How blue the blood becomes\", \"Q10\": \"Muscles in the heart stop getting used and deteriorate over time\", \"Q11\": \"Lack of oxygen\", \"Q12\": \"Squatting\", \"Q59\": \"Not sure\", \"Q60\": \"Not sure\", \"Post Q1_1\": \"No knowledge at all\", \"Post Q1_2\": \"A little knowledge\", \"Speed\": \"2.0x speed\", \"Post Q2\": \"Khoury\", \"SC0\": 6}, {\"Duration (in seconds)\": 268, \"Experimenter\": null, \"ResponseId\": \"R_1drUjrw1q1oFLdA\", \"Intro + Consent\": \"I consent, begin the study\", \"Q1\": \"The name of the physician who named the disease\", \"Q2\": \"The narrowing of the pulmonary valve\", \"Q3\": \"Cyanotic, because blue blood is being forced to the left\", \"Q4\": \"It squeezes their legs together, which increases the systemic resistance of all the arteries in their body\", \"Q5\": \"Right ventricle\", \"Q6\": \"When the diameter of the vein grows to allow for more oxygen\", \"Q7\": \"I do not know\", \"Q8\": \"Because the blood is lacking oxygen\", \"Q9\": \"How hard is it to pump blood\", \"Q10\": \"Muscles in the heart are over exercised and becomes thicker\", \"Q11\": \"oxygen depleted\", \"Q12\": \"squat\", \"Q59\": \"boot\", \"Q60\": \"4\", \"Post Q1_1\": \"A little knowledge\", \"Post Q1_2\": \"Some knowledge\", \"Speed\": \"2.0x speed\", \"Post Q2\": \"Khoury\", \"SC0\": 12}]}}, {\"mode\": \"vega-lite\"});\n",
       "</script>"
      ],
      "text/plain": [
       "alt.LayerChart(...)"
      ]
     },
     "execution_count": 3,
     "metadata": {},
     "output_type": "execute_result"
    }
   ],
   "source": [
    "# descriptive statistics\n",
    "print('Long-term mean (1.0x speed):', long_term[long_term.Speed == '1.0 speed (normal)']['SC0'].mean())\n",
    "print('Long-term mean (1.5x speed):', long_term[long_term.Speed == '1.5x speed']['SC0'].mean())\n",
    "print('Long-term mean (2.0x speed):', long_term[long_term.Speed == '2.0x speed']['SC0'].mean())\n",
    "\n",
    "print('Standard deviation (1.0x speed):', long_term[long_term.Speed == '1.0 speed (normal)']['SC0'].std())\n",
    "print('Standard deviation (1.5x speed):', long_term[long_term.Speed == '1.5x speed']['SC0'].std())\n",
    "print('Standard deviation (2.0x speed):', long_term[long_term.Speed == '2.0x speed']['SC0'].std())\n",
    "\n",
    "\n",
    "\n",
    "bar = alt.Chart(long_term).mark_bar().encode(\n",
    "  x='Speed',\n",
    "  y='mean(SC0)'\n",
    ")\n",
    "\n",
    "error_bars = alt.Chart(long_term).mark_errorbar().encode(\n",
    "  x='Speed',\n",
    "  y='mean(SC0)'\n",
    ")\n",
    "\n",
    "bar + error_bars\n",
    "\n",
    "# Short-term mean (1.0x speed): 9.181818181818182\n",
    "# Short-term mean (1.5x speed): 6.636363636363637\n",
    "# Short-term mean (2.0x speed): 7.454545454545454\n",
    "# Standard deviation (1.0x speed): 3.2807981290588977\n",
    "# Standard deviation (1.5x speed): 2.73030134866931\n",
    "# Standard deviation (2.0x speed): 2.5045413298101655"
   ]
  },
  {
   "cell_type": "code",
   "execution_count": 4,
   "id": "f2b77062",
   "metadata": {},
   "outputs": [
    {
     "data": {
      "text/html": [
       "<div>\n",
       "<style scoped>\n",
       "    .dataframe tbody tr th:only-of-type {\n",
       "        vertical-align: middle;\n",
       "    }\n",
       "\n",
       "    .dataframe tbody tr th {\n",
       "        vertical-align: top;\n",
       "    }\n",
       "\n",
       "    .dataframe thead th {\n",
       "        text-align: right;\n",
       "    }\n",
       "</style>\n",
       "<table border=\"1\" class=\"dataframe\">\n",
       "  <thead>\n",
       "    <tr style=\"text-align: right;\">\n",
       "      <th></th>\n",
       "      <th>W</th>\n",
       "      <th>pval</th>\n",
       "      <th>equal_var</th>\n",
       "    </tr>\n",
       "  </thead>\n",
       "  <tbody>\n",
       "    <tr>\n",
       "      <th>levene</th>\n",
       "      <td>0.256436</td>\n",
       "      <td>0.776745</td>\n",
       "      <td>True</td>\n",
       "    </tr>\n",
       "  </tbody>\n",
       "</table>\n",
       "</div>"
      ],
      "text/plain": [
       "               W      pval  equal_var\n",
       "levene  0.256436  0.776745       True"
      ]
     },
     "execution_count": 4,
     "metadata": {},
     "output_type": "execute_result"
    }
   ],
   "source": [
    "# assumption check - variances\n",
    "pg.homoscedasticity(data=long_term, dv=\"SC0\", group=\"Speed\", method=\"levene\", alpha=0.05)\n",
    "\n",
    "# p > 0.05 so we can continue"
   ]
  },
  {
   "cell_type": "code",
   "execution_count": 5,
   "id": "3a681521",
   "metadata": {},
   "outputs": [
    {
     "data": {
      "text/html": [
       "<div>\n",
       "<style scoped>\n",
       "    .dataframe tbody tr th:only-of-type {\n",
       "        vertical-align: middle;\n",
       "    }\n",
       "\n",
       "    .dataframe tbody tr th {\n",
       "        vertical-align: top;\n",
       "    }\n",
       "\n",
       "    .dataframe thead th {\n",
       "        text-align: right;\n",
       "    }\n",
       "</style>\n",
       "<table border=\"1\" class=\"dataframe\">\n",
       "  <thead>\n",
       "    <tr style=\"text-align: right;\">\n",
       "      <th></th>\n",
       "      <th>W</th>\n",
       "      <th>pval</th>\n",
       "      <th>normal</th>\n",
       "    </tr>\n",
       "    <tr>\n",
       "      <th>Speed</th>\n",
       "      <th></th>\n",
       "      <th></th>\n",
       "      <th></th>\n",
       "    </tr>\n",
       "  </thead>\n",
       "  <tbody>\n",
       "    <tr>\n",
       "      <th>1.0 speed (normal)</th>\n",
       "      <td>0.846750</td>\n",
       "      <td>0.148126</td>\n",
       "      <td>True</td>\n",
       "    </tr>\n",
       "    <tr>\n",
       "      <th>1.5x speed</th>\n",
       "      <td>0.965788</td>\n",
       "      <td>0.863063</td>\n",
       "      <td>True</td>\n",
       "    </tr>\n",
       "    <tr>\n",
       "      <th>2.0x speed</th>\n",
       "      <td>0.944042</td>\n",
       "      <td>0.691909</td>\n",
       "      <td>True</td>\n",
       "    </tr>\n",
       "  </tbody>\n",
       "</table>\n",
       "</div>"
      ],
      "text/plain": [
       "                           W      pval  normal\n",
       "Speed                                         \n",
       "1.0 speed (normal)  0.846750  0.148126    True\n",
       "1.5x speed          0.965788  0.863063    True\n",
       "2.0x speed          0.944042  0.691909    True"
      ]
     },
     "execution_count": 5,
     "metadata": {},
     "output_type": "execute_result"
    }
   ],
   "source": [
    "# assumption check - normality\n",
    "pg.normality(data=long_term, dv=\"SC0\", group=\"Speed\")\n",
    "\n",
    "# p > 0.05 for all playback speeds so we can continue"
   ]
  },
  {
   "cell_type": "code",
   "execution_count": 6,
   "id": "313e1ff3",
   "metadata": {},
   "outputs": [
    {
     "data": {
      "text/html": [
       "<div>\n",
       "<style scoped>\n",
       "    .dataframe tbody tr th:only-of-type {\n",
       "        vertical-align: middle;\n",
       "    }\n",
       "\n",
       "    .dataframe tbody tr th {\n",
       "        vertical-align: top;\n",
       "    }\n",
       "\n",
       "    .dataframe thead th {\n",
       "        text-align: right;\n",
       "    }\n",
       "</style>\n",
       "<table border=\"1\" class=\"dataframe\">\n",
       "  <thead>\n",
       "    <tr style=\"text-align: right;\">\n",
       "      <th></th>\n",
       "      <th>Source</th>\n",
       "      <th>SS</th>\n",
       "      <th>DF</th>\n",
       "      <th>MS</th>\n",
       "      <th>F</th>\n",
       "      <th>p-unc</th>\n",
       "      <th>np2</th>\n",
       "    </tr>\n",
       "  </thead>\n",
       "  <tbody>\n",
       "    <tr>\n",
       "      <th>0</th>\n",
       "      <td>Speed</td>\n",
       "      <td>12.825</td>\n",
       "      <td>2</td>\n",
       "      <td>6.412500</td>\n",
       "      <td>0.663194</td>\n",
       "      <td>0.528035</td>\n",
       "      <td>0.072376</td>\n",
       "    </tr>\n",
       "    <tr>\n",
       "      <th>1</th>\n",
       "      <td>Within</td>\n",
       "      <td>164.375</td>\n",
       "      <td>17</td>\n",
       "      <td>9.669118</td>\n",
       "      <td>NaN</td>\n",
       "      <td>NaN</td>\n",
       "      <td>NaN</td>\n",
       "    </tr>\n",
       "  </tbody>\n",
       "</table>\n",
       "</div>"
      ],
      "text/plain": [
       "   Source       SS  DF        MS         F     p-unc       np2\n",
       "0   Speed   12.825   2  6.412500  0.663194  0.528035  0.072376\n",
       "1  Within  164.375  17  9.669118       NaN       NaN       NaN"
      ]
     },
     "execution_count": 6,
     "metadata": {},
     "output_type": "execute_result"
    }
   ],
   "source": [
    "# p < 0.05, so results are significants\n",
    "pg.anova(data=long_term, dv=\"SC0\", between=\"Speed\", detailed=True)"
   ]
  },
  {
   "cell_type": "code",
   "execution_count": 7,
   "id": "a70e533a",
   "metadata": {},
   "outputs": [
    {
     "data": {
      "text/html": [
       "<div>\n",
       "<style scoped>\n",
       "    .dataframe tbody tr th:only-of-type {\n",
       "        vertical-align: middle;\n",
       "    }\n",
       "\n",
       "    .dataframe tbody tr th {\n",
       "        vertical-align: top;\n",
       "    }\n",
       "\n",
       "    .dataframe thead th {\n",
       "        text-align: right;\n",
       "    }\n",
       "</style>\n",
       "<table border=\"1\" class=\"dataframe\">\n",
       "  <thead>\n",
       "    <tr style=\"text-align: right;\">\n",
       "      <th></th>\n",
       "      <th>Contrast</th>\n",
       "      <th>A</th>\n",
       "      <th>B</th>\n",
       "      <th>Paired</th>\n",
       "      <th>Parametric</th>\n",
       "      <th>T</th>\n",
       "      <th>dof</th>\n",
       "      <th>alternative</th>\n",
       "      <th>p-unc</th>\n",
       "      <th>p-corr</th>\n",
       "      <th>p-adjust</th>\n",
       "      <th>BF10</th>\n",
       "      <th>hedges</th>\n",
       "    </tr>\n",
       "  </thead>\n",
       "  <tbody>\n",
       "    <tr>\n",
       "      <th>0</th>\n",
       "      <td>Speed</td>\n",
       "      <td>1.0 speed (normal)</td>\n",
       "      <td>1.5x speed</td>\n",
       "      <td>False</td>\n",
       "      <td>True</td>\n",
       "      <td>1.057818</td>\n",
       "      <td>11.162607</td>\n",
       "      <td>two-sided</td>\n",
       "      <td>0.312493</td>\n",
       "      <td>0.93748</td>\n",
       "      <td>bonf</td>\n",
       "      <td>0.643</td>\n",
       "      <td>0.531518</td>\n",
       "    </tr>\n",
       "    <tr>\n",
       "      <th>1</th>\n",
       "      <td>Speed</td>\n",
       "      <td>1.0 speed (normal)</td>\n",
       "      <td>2.0x speed</td>\n",
       "      <td>False</td>\n",
       "      <td>True</td>\n",
       "      <td>0.888523</td>\n",
       "      <td>10.000000</td>\n",
       "      <td>two-sided</td>\n",
       "      <td>0.395129</td>\n",
       "      <td>1.00000</td>\n",
       "      <td>bonf</td>\n",
       "      <td>0.599</td>\n",
       "      <td>0.473528</td>\n",
       "    </tr>\n",
       "    <tr>\n",
       "      <th>2</th>\n",
       "      <td>Speed</td>\n",
       "      <td>1.5x speed</td>\n",
       "      <td>2.0x speed</td>\n",
       "      <td>False</td>\n",
       "      <td>True</td>\n",
       "      <td>-0.235987</td>\n",
       "      <td>11.967853</td>\n",
       "      <td>two-sided</td>\n",
       "      <td>0.817433</td>\n",
       "      <td>1.00000</td>\n",
       "      <td>bonf</td>\n",
       "      <td>0.457</td>\n",
       "      <td>-0.114721</td>\n",
       "    </tr>\n",
       "  </tbody>\n",
       "</table>\n",
       "</div>"
      ],
      "text/plain": [
       "  Contrast                   A           B  Paired  Parametric         T  \\\n",
       "0    Speed  1.0 speed (normal)  1.5x speed   False        True  1.057818   \n",
       "1    Speed  1.0 speed (normal)  2.0x speed   False        True  0.888523   \n",
       "2    Speed          1.5x speed  2.0x speed   False        True -0.235987   \n",
       "\n",
       "         dof alternative     p-unc   p-corr p-adjust   BF10    hedges  \n",
       "0  11.162607   two-sided  0.312493  0.93748     bonf  0.643  0.531518  \n",
       "1  10.000000   two-sided  0.395129  1.00000     bonf  0.599  0.473528  \n",
       "2  11.967853   two-sided  0.817433  1.00000     bonf  0.457 -0.114721  "
      ]
     },
     "execution_count": 7,
     "metadata": {},
     "output_type": "execute_result"
    }
   ],
   "source": [
    "pg.pairwise_tests(data=long_term, dv=\"SC0\", between=\"Speed\", subject=\"ResponseId\", padjust=\"bonf\")"
   ]
  },
  {
   "cell_type": "code",
   "execution_count": 8,
   "id": "bfead797",
   "metadata": {},
   "outputs": [
    {
     "data": {
      "image/png": "[encoded data removed]",
      "text/plain": [
       "<Figure size 640x480 with 1 Axes>"
      ]
     },
     "metadata": {},
     "output_type": "display_data"
    }
   ],
   "source": [
    "ax = sns.boxplot(x=\"Speed\", y=\"SC0\", data=long_term, color=\"#99c2a2\")\n",
    "ax = sns.swarmplot(x=\"Speed\", y=\"SC0\", data=long_term)\n",
    "plt.show()"
   ]
  },
  {
   "cell_type": "code",
   "execution_count": null,
   "id": "c279ee93",
   "metadata": {},
   "outputs": [],
   "source": []
  }
 ],
 "metadata": {
  "kernelspec": {
   "display_name": "Python 3",
   "language": "python",
   "name": "python3"
  },
  "language_info": {
   "codemirror_mode": {
    "name": "ipython",
    "version": 3
   },
   "file_extension": ".py",
   "mimetype": "text/x-python",
   "name": "python",
   "nbconvert_exporter": "python",
   "pygments_lexer": "ipython3",
   "version": "3.9.7"
  }
 },
 "nbformat": 4,
 "nbformat_minor": 5
}
